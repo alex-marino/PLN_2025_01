{
 "cells": [
  {
   "cell_type": "code",
   "execution_count": null,
   "id": "initial_id",
   "metadata": {
    "collapsed": true
   },
   "outputs": [],
   "source": [
    "import nltk\n",
    "import pandas as pd\n",
    "import matplotlib.pyplot as plt\n",
    "from nltk import word_tokenize, bigrams, trigrams, FreqDist\n",
    "from nltk.lm import MLE\n",
    "from nltk.lm.preprocessing import padded_everygram_pipeline\n",
    "from nltk.corpus import stopwords\n",
    "import string\n",
    "\n",
    "# Baixar recursos necessários\n",
    "nltk.download('punkt')\n",
    "nltk.download('stopwords')\n",
    "\n",
    "# Função para pré-processamento\n",
    "def preprocess_text(text):\n",
    "    stop_words = set(stopwords.words('portuguese'))  # Ajuste conforme a língua do dataset\n",
    "    text = text.lower()  # Convertendo para minúsculas\n",
    "    text = text.translate(str.maketrans('', '', string.punctuation))  # Removendo pontuação\n",
    "    tokens = word_tokenize(text)  # Tokenização\n",
    "    tokens = [word for word in tokens if word not in stop_words and word.isalpha()]  # Removendo stopwords\n",
    "    return tokens\n",
    "\n"
   ]
  },
  {
   "metadata": {},
   "cell_type": "code",
   "outputs": [],
   "execution_count": null,
   "source": [
    "# Carregar um dataset de texto (exemplo com CSV)\n",
    "df = pd.read_csv(\"dataset_texto.csv\")  # Substituir pelo caminho correto do dataset\n",
    "\n",
    "# Considerar apenas uma coluna de texto (ajustar conforme necessário)\n",
    "df.dropna(inplace=True)\n",
    "text_data = ' '.join(df['coluna_texto'].tolist())  # Unindo textos\n",
    "\n",
    "# Aplicar pré-processamento\n",
    "tokens = preprocess_text(text_data)\n",
    "\n",
    "# Criando bigramas e trigramas\n",
    "bigrams_list = list(bigrams(tokens))\n",
    "trigrams_list = list(trigrams(tokens))\n",
    "\n",
    "# Criando modelo de N-grama com MLE\n",
    "n = 3  # Define o tamanho do modelo (trigramas, por exemplo)\n",
    "train_data, padded_vocab = padded_everygram_pipeline(n, [tokens])\n",
    "model = MLE(n)\n",
    "model.fit(train_data, padded_vocab)\n",
    "\n",
    "# Exibir algumas probabilidades de bigramas\n",
    "def display_ngram_probabilities(model, context, top_n=5):\n",
    "    print(f\"Contexto: {context}\")\n",
    "    candidates = {word: model.score(word, context) for word in model.vocab}\n",
    "    sorted_candidates = sorted(candidates.items(), key=lambda x: x[1], reverse=True)[:top_n]\n",
    "    for word, prob in sorted_candidates:\n",
    "        print(f\"{context} -> {word}: {prob:.4f}\")\n",
    "\n"
   ],
   "id": "dc687b1b1c857088"
  },
  {
   "metadata": {},
   "cell_type": "code",
   "outputs": [],
   "execution_count": null,
   "source": [
    "# Exemplo de contexto\n",
    "display_ngram_probabilities(model, ('exemplo',), top_n=5)\n",
    "\n",
    "# Visualizando distribuição de frequência de bigramas\n",
    "fdist = FreqDist(bigrams_list)\n",
    "fdist.plot(20, title=\"Top 20 Bigramas Frequentes\")\n",
    "\n",
    "# Visualizando distribuição de frequência de trigramas\n",
    "fdist_tri = FreqDist(trigrams_list)\n",
    "fdist_tri.plot(20, title=\"Top 20 Trigramas Frequentes\")\n"
   ],
   "id": "c1599fd5f4ef4414"
  }
 ],
 "metadata": {
  "kernelspec": {
   "display_name": "Python 3",
   "language": "python",
   "name": "python3"
  },
  "language_info": {
   "codemirror_mode": {
    "name": "ipython",
    "version": 2
   },
   "file_extension": ".py",
   "mimetype": "text/x-python",
   "name": "python",
   "nbconvert_exporter": "python",
   "pygments_lexer": "ipython2",
   "version": "2.7.6"
  }
 },
 "nbformat": 4,
 "nbformat_minor": 5
}
