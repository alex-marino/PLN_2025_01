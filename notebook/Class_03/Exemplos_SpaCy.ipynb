{
 "cells": [
  {
   "cell_type": "code",
   "id": "initial_id",
   "metadata": {
    "collapsed": true,
    "ExecuteTime": {
     "end_time": "2025-02-27T21:26:11.731603Z",
     "start_time": "2025-02-27T21:25:58.706555Z"
    }
   },
   "source": [
    "!pip install spacy\n",
    "!python -m spacy download pt_core_news_sm\n"
   ],
   "outputs": [
    {
     "name": "stdout",
     "output_type": "stream",
     "text": [
      "Collecting spacy\r\n",
      "  Downloading spacy-3.8.4-cp311-cp311-manylinux_2_17_x86_64.manylinux2014_x86_64.whl.metadata (27 kB)\r\n",
      "Collecting spacy-legacy<3.1.0,>=3.0.11 (from spacy)\r\n",
      "  Using cached spacy_legacy-3.0.12-py2.py3-none-any.whl.metadata (2.8 kB)\r\n",
      "Collecting spacy-loggers<2.0.0,>=1.0.0 (from spacy)\r\n",
      "  Using cached spacy_loggers-1.0.5-py3-none-any.whl.metadata (23 kB)\r\n",
      "Collecting murmurhash<1.1.0,>=0.28.0 (from spacy)\r\n",
      "  Downloading murmurhash-1.0.12-cp311-cp311-manylinux_2_5_x86_64.manylinux1_x86_64.manylinux_2_17_x86_64.manylinux2014_x86_64.whl.metadata (2.1 kB)\r\n",
      "Collecting cymem<2.1.0,>=2.0.2 (from spacy)\r\n",
      "  Downloading cymem-2.0.11-cp311-cp311-manylinux_2_17_x86_64.manylinux2014_x86_64.whl.metadata (8.5 kB)\r\n",
      "Collecting preshed<3.1.0,>=3.0.2 (from spacy)\r\n",
      "  Downloading preshed-3.0.9-cp311-cp311-manylinux_2_5_x86_64.manylinux1_x86_64.manylinux_2_17_x86_64.manylinux2014_x86_64.whl.metadata (2.2 kB)\r\n",
      "Collecting thinc<8.4.0,>=8.3.4 (from spacy)\r\n",
      "  Downloading thinc-8.3.4-cp311-cp311-manylinux_2_17_x86_64.manylinux2014_x86_64.whl.metadata (15 kB)\r\n",
      "Collecting wasabi<1.2.0,>=0.9.1 (from spacy)\r\n",
      "  Using cached wasabi-1.1.3-py3-none-any.whl.metadata (28 kB)\r\n",
      "Collecting srsly<3.0.0,>=2.4.3 (from spacy)\r\n",
      "  Downloading srsly-2.5.1-cp311-cp311-manylinux_2_17_x86_64.manylinux2014_x86_64.whl.metadata (19 kB)\r\n",
      "Collecting catalogue<2.1.0,>=2.0.6 (from spacy)\r\n",
      "  Using cached catalogue-2.0.10-py3-none-any.whl.metadata (14 kB)\r\n",
      "Collecting weasel<0.5.0,>=0.1.0 (from spacy)\r\n",
      "  Using cached weasel-0.4.1-py3-none-any.whl.metadata (4.6 kB)\r\n",
      "Collecting typer<1.0.0,>=0.3.0 (from spacy)\r\n",
      "  Downloading typer-0.15.2-py3-none-any.whl.metadata (15 kB)\r\n",
      "Requirement already satisfied: tqdm<5.0.0,>=4.38.0 in /home/alex/miniconda3/envs/pythonProject1/lib/python3.11/site-packages (from spacy) (4.67.1)\r\n",
      "Requirement already satisfied: numpy>=1.19.0 in /home/alex/miniconda3/envs/pythonProject1/lib/python3.11/site-packages (from spacy) (2.2.3)\r\n",
      "Requirement already satisfied: requests<3.0.0,>=2.13.0 in /home/alex/miniconda3/envs/pythonProject1/lib/python3.11/site-packages (from spacy) (2.32.3)\r\n",
      "Collecting pydantic!=1.8,!=1.8.1,<3.0.0,>=1.7.4 (from spacy)\r\n",
      "  Using cached pydantic-2.10.6-py3-none-any.whl.metadata (30 kB)\r\n",
      "Requirement already satisfied: jinja2 in /home/alex/miniconda3/envs/pythonProject1/lib/python3.11/site-packages (from spacy) (3.1.5)\r\n",
      "Requirement already satisfied: setuptools in /home/alex/miniconda3/envs/pythonProject1/lib/python3.11/site-packages (from spacy) (75.8.0)\r\n",
      "Requirement already satisfied: packaging>=20.0 in /home/alex/miniconda3/envs/pythonProject1/lib/python3.11/site-packages (from spacy) (24.2)\r\n",
      "Collecting langcodes<4.0.0,>=3.2.0 (from spacy)\r\n",
      "  Using cached langcodes-3.5.0-py3-none-any.whl.metadata (29 kB)\r\n",
      "Collecting language-data>=1.2 (from langcodes<4.0.0,>=3.2.0->spacy)\r\n",
      "  Using cached language_data-1.3.0-py3-none-any.whl.metadata (4.3 kB)\r\n",
      "Collecting annotated-types>=0.6.0 (from pydantic!=1.8,!=1.8.1,<3.0.0,>=1.7.4->spacy)\r\n",
      "  Using cached annotated_types-0.7.0-py3-none-any.whl.metadata (15 kB)\r\n",
      "Collecting pydantic-core==2.27.2 (from pydantic!=1.8,!=1.8.1,<3.0.0,>=1.7.4->spacy)\r\n",
      "  Downloading pydantic_core-2.27.2-cp311-cp311-manylinux_2_17_x86_64.manylinux2014_x86_64.whl.metadata (6.6 kB)\r\n",
      "Requirement already satisfied: typing-extensions>=4.12.2 in /home/alex/miniconda3/envs/pythonProject1/lib/python3.11/site-packages (from pydantic!=1.8,!=1.8.1,<3.0.0,>=1.7.4->spacy) (4.12.2)\r\n",
      "Requirement already satisfied: charset-normalizer<4,>=2 in /home/alex/miniconda3/envs/pythonProject1/lib/python3.11/site-packages (from requests<3.0.0,>=2.13.0->spacy) (3.3.2)\r\n",
      "Requirement already satisfied: idna<4,>=2.5 in /home/alex/miniconda3/envs/pythonProject1/lib/python3.11/site-packages (from requests<3.0.0,>=2.13.0->spacy) (3.7)\r\n",
      "Requirement already satisfied: urllib3<3,>=1.21.1 in /home/alex/miniconda3/envs/pythonProject1/lib/python3.11/site-packages (from requests<3.0.0,>=2.13.0->spacy) (2.3.0)\r\n",
      "Requirement already satisfied: certifi>=2017.4.17 in /home/alex/miniconda3/envs/pythonProject1/lib/python3.11/site-packages (from requests<3.0.0,>=2.13.0->spacy) (2025.1.31)\r\n",
      "Collecting blis<1.3.0,>=1.2.0 (from thinc<8.4.0,>=8.3.4->spacy)\r\n",
      "  Downloading blis-1.2.0-cp311-cp311-manylinux_2_17_x86_64.manylinux2014_x86_64.whl.metadata (7.7 kB)\r\n",
      "Collecting confection<1.0.0,>=0.0.1 (from thinc<8.4.0,>=8.3.4->spacy)\r\n",
      "  Using cached confection-0.1.5-py3-none-any.whl.metadata (19 kB)\r\n",
      "Requirement already satisfied: click>=8.0.0 in /home/alex/miniconda3/envs/pythonProject1/lib/python3.11/site-packages (from typer<1.0.0,>=0.3.0->spacy) (8.1.8)\r\n",
      "Collecting shellingham>=1.3.0 (from typer<1.0.0,>=0.3.0->spacy)\r\n",
      "  Using cached shellingham-1.5.4-py2.py3-none-any.whl.metadata (3.5 kB)\r\n",
      "Collecting rich>=10.11.0 (from typer<1.0.0,>=0.3.0->spacy)\r\n",
      "  Using cached rich-13.9.4-py3-none-any.whl.metadata (18 kB)\r\n",
      "Collecting cloudpathlib<1.0.0,>=0.7.0 (from weasel<0.5.0,>=0.1.0->spacy)\r\n",
      "  Using cached cloudpathlib-0.20.0-py3-none-any.whl.metadata (14 kB)\r\n",
      "Collecting smart-open<8.0.0,>=5.2.1 (from weasel<0.5.0,>=0.1.0->spacy)\r\n",
      "  Using cached smart_open-7.1.0-py3-none-any.whl.metadata (24 kB)\r\n",
      "Requirement already satisfied: MarkupSafe>=2.0 in /home/alex/miniconda3/envs/pythonProject1/lib/python3.11/site-packages (from jinja2->spacy) (3.0.2)\r\n",
      "Collecting marisa-trie>=1.1.0 (from language-data>=1.2->langcodes<4.0.0,>=3.2.0->spacy)\r\n",
      "  Downloading marisa_trie-1.2.1-cp311-cp311-manylinux_2_17_x86_64.manylinux2014_x86_64.whl.metadata (9.0 kB)\r\n",
      "Collecting markdown-it-py>=2.2.0 (from rich>=10.11.0->typer<1.0.0,>=0.3.0->spacy)\r\n",
      "  Using cached markdown_it_py-3.0.0-py3-none-any.whl.metadata (6.9 kB)\r\n",
      "Requirement already satisfied: pygments<3.0.0,>=2.13.0 in /home/alex/miniconda3/envs/pythonProject1/lib/python3.11/site-packages (from rich>=10.11.0->typer<1.0.0,>=0.3.0->spacy) (2.15.1)\r\n",
      "Collecting wrapt (from smart-open<8.0.0,>=5.2.1->weasel<0.5.0,>=0.1.0->spacy)\r\n",
      "  Downloading wrapt-1.17.2-cp311-cp311-manylinux_2_5_x86_64.manylinux1_x86_64.manylinux_2_17_x86_64.manylinux2014_x86_64.whl.metadata (6.4 kB)\r\n",
      "Collecting mdurl~=0.1 (from markdown-it-py>=2.2.0->rich>=10.11.0->typer<1.0.0,>=0.3.0->spacy)\r\n",
      "  Using cached mdurl-0.1.2-py3-none-any.whl.metadata (1.6 kB)\r\n",
      "Downloading spacy-3.8.4-cp311-cp311-manylinux_2_17_x86_64.manylinux2014_x86_64.whl (30.6 MB)\r\n",
      "\u001B[2K   \u001B[90m━━━━━━━━━━━━━━━━━━━━━━━━━━━━━━━━━━━━━━━━\u001B[0m \u001B[32m30.6/30.6 MB\u001B[0m \u001B[31m39.5 MB/s\u001B[0m eta \u001B[36m0:00:00\u001B[0ma \u001B[36m0:00:01\u001B[0m\r\n",
      "\u001B[?25hUsing cached catalogue-2.0.10-py3-none-any.whl (17 kB)\r\n",
      "Downloading cymem-2.0.11-cp311-cp311-manylinux_2_17_x86_64.manylinux2014_x86_64.whl (218 kB)\r\n",
      "Using cached langcodes-3.5.0-py3-none-any.whl (182 kB)\r\n",
      "Downloading murmurhash-1.0.12-cp311-cp311-manylinux_2_5_x86_64.manylinux1_x86_64.manylinux_2_17_x86_64.manylinux2014_x86_64.whl (134 kB)\r\n",
      "Downloading preshed-3.0.9-cp311-cp311-manylinux_2_5_x86_64.manylinux1_x86_64.manylinux_2_17_x86_64.manylinux2014_x86_64.whl (157 kB)\r\n",
      "Using cached pydantic-2.10.6-py3-none-any.whl (431 kB)\r\n",
      "Downloading pydantic_core-2.27.2-cp311-cp311-manylinux_2_17_x86_64.manylinux2014_x86_64.whl (2.0 MB)\r\n",
      "\u001B[2K   \u001B[90m━━━━━━━━━━━━━━━━━━━━━━━━━━━━━━━━━━━━━━━━\u001B[0m \u001B[32m2.0/2.0 MB\u001B[0m \u001B[31m32.3 MB/s\u001B[0m eta \u001B[36m0:00:00\u001B[0m\r\n",
      "\u001B[?25hUsing cached spacy_legacy-3.0.12-py2.py3-none-any.whl (29 kB)\r\n",
      "Using cached spacy_loggers-1.0.5-py3-none-any.whl (22 kB)\r\n",
      "Downloading srsly-2.5.1-cp311-cp311-manylinux_2_17_x86_64.manylinux2014_x86_64.whl (1.1 MB)\r\n",
      "\u001B[2K   \u001B[90m━━━━━━━━━━━━━━━━━━━━━━━━━━━━━━━━━━━━━━━━\u001B[0m \u001B[32m1.1/1.1 MB\u001B[0m \u001B[31m28.1 MB/s\u001B[0m eta \u001B[36m0:00:00\u001B[0m\r\n",
      "\u001B[?25hDownloading thinc-8.3.4-cp311-cp311-manylinux_2_17_x86_64.manylinux2014_x86_64.whl (3.9 MB)\r\n",
      "\u001B[2K   \u001B[90m━━━━━━━━━━━━━━━━━━━━━━━━━━━━━━━━━━━━━━━━\u001B[0m \u001B[32m3.9/3.9 MB\u001B[0m \u001B[31m35.2 MB/s\u001B[0m eta \u001B[36m0:00:00\u001B[0m\r\n",
      "\u001B[?25hDownloading typer-0.15.2-py3-none-any.whl (45 kB)\r\n",
      "Using cached wasabi-1.1.3-py3-none-any.whl (27 kB)\r\n",
      "Using cached weasel-0.4.1-py3-none-any.whl (50 kB)\r\n",
      "Using cached annotated_types-0.7.0-py3-none-any.whl (13 kB)\r\n",
      "Downloading blis-1.2.0-cp311-cp311-manylinux_2_17_x86_64.manylinux2014_x86_64.whl (11.7 MB)\r\n",
      "\u001B[2K   \u001B[90m━━━━━━━━━━━━━━━━━━━━━━━━━━━━━━━━━━━━━━━━\u001B[0m \u001B[32m11.7/11.7 MB\u001B[0m \u001B[31m34.7 MB/s\u001B[0m eta \u001B[36m0:00:00\u001B[0m \u001B[36m0:00:01\u001B[0m\r\n",
      "\u001B[?25hUsing cached cloudpathlib-0.20.0-py3-none-any.whl (52 kB)\r\n",
      "Using cached confection-0.1.5-py3-none-any.whl (35 kB)\r\n",
      "Using cached language_data-1.3.0-py3-none-any.whl (5.4 MB)\r\n",
      "Using cached rich-13.9.4-py3-none-any.whl (242 kB)\r\n",
      "Using cached shellingham-1.5.4-py2.py3-none-any.whl (9.8 kB)\r\n",
      "Using cached smart_open-7.1.0-py3-none-any.whl (61 kB)\r\n",
      "Downloading marisa_trie-1.2.1-cp311-cp311-manylinux_2_17_x86_64.manylinux2014_x86_64.whl (1.4 MB)\r\n",
      "\u001B[2K   \u001B[90m━━━━━━━━━━━━━━━━━━━━━━━━━━━━━━━━━━━━━━━━\u001B[0m \u001B[32m1.4/1.4 MB\u001B[0m \u001B[31m27.9 MB/s\u001B[0m eta \u001B[36m0:00:00\u001B[0m\r\n",
      "\u001B[?25hUsing cached markdown_it_py-3.0.0-py3-none-any.whl (87 kB)\r\n",
      "Downloading wrapt-1.17.2-cp311-cp311-manylinux_2_5_x86_64.manylinux1_x86_64.manylinux_2_17_x86_64.manylinux2014_x86_64.whl (83 kB)\r\n",
      "Using cached mdurl-0.1.2-py3-none-any.whl (10.0 kB)\r\n",
      "Installing collected packages: cymem, wrapt, wasabi, spacy-loggers, spacy-legacy, shellingham, pydantic-core, murmurhash, mdurl, marisa-trie, cloudpathlib, catalogue, blis, annotated-types, srsly, smart-open, pydantic, preshed, markdown-it-py, language-data, rich, langcodes, confection, typer, thinc, weasel, spacy\r\n",
      "Successfully installed annotated-types-0.7.0 blis-1.2.0 catalogue-2.0.10 cloudpathlib-0.20.0 confection-0.1.5 cymem-2.0.11 langcodes-3.5.0 language-data-1.3.0 marisa-trie-1.2.1 markdown-it-py-3.0.0 mdurl-0.1.2 murmurhash-1.0.12 preshed-3.0.9 pydantic-2.10.6 pydantic-core-2.27.2 rich-13.9.4 shellingham-1.5.4 smart-open-7.1.0 spacy-3.8.4 spacy-legacy-3.0.12 spacy-loggers-1.0.5 srsly-2.5.1 thinc-8.3.4 typer-0.15.2 wasabi-1.1.3 weasel-0.4.1 wrapt-1.17.2\r\n",
      "Collecting pt-core-news-sm==3.8.0\r\n",
      "  Downloading https://github.com/explosion/spacy-models/releases/download/pt_core_news_sm-3.8.0/pt_core_news_sm-3.8.0-py3-none-any.whl (13.0 MB)\r\n",
      "\u001B[2K     \u001B[90m━━━━━━━━━━━━━━━━━━━━━━━━━━━━━━━━━━━━━━━━\u001B[0m \u001B[32m13.0/13.0 MB\u001B[0m \u001B[31m38.3 MB/s\u001B[0m eta \u001B[36m0:00:00\u001B[0m \u001B[36m0:00:01\u001B[0m\r\n",
      "\u001B[?25hInstalling collected packages: pt-core-news-sm\r\n",
      "Successfully installed pt-core-news-sm-3.8.0\r\n",
      "\u001B[38;5;2m✔ Download and installation successful\u001B[0m\r\n",
      "You can now load the package via spacy.load('pt_core_news_sm')\r\n"
     ]
    }
   ],
   "execution_count": 1
  },
  {
   "metadata": {},
   "cell_type": "markdown",
   "source": [
    "# Tokenização\n",
    "* Objetivo: Separar um texto em palavras e sentenças."
   ],
   "id": "200be759edb0e00b"
  },
  {
   "metadata": {
    "ExecuteTime": {
     "end_time": "2025-02-27T21:30:10.602656Z",
     "start_time": "2025-02-27T21:30:09.511796Z"
    }
   },
   "cell_type": "code",
   "source": [
    "import spacy\n",
    "\n",
    "# Carregar modelo de português\n",
    "nlp = spacy.load(\"pt_core_news_sm\")\n",
    "\n",
    "# Texto de exemplo\n",
    "texto = \"Olá! Bem-vindo ao curso de PLN. Hoje vamos aprender sobre tokenização.\"\n",
    "\n",
    "# Processar o texto com spaCy\n",
    "doc = nlp(texto)\n",
    "\n",
    "# Tokenização por palavras\n",
    "tokens_palavras = [token.text for token in doc]\n",
    "print(\"Tokens por palavras:\", tokens_palavras)\n",
    "\n",
    "# Tokenização por sentenças\n",
    "tokens_sentencas = [sent.text for sent in doc.sents]\n",
    "print(\"Tokens por sentenças:\", tokens_sentencas)\n"
   ],
   "id": "e9165e4425e8910b",
   "outputs": [
    {
     "name": "stdout",
     "output_type": "stream",
     "text": [
      "Tokens por palavras: ['Olá', '!', 'Bem-vindo', 'ao', 'curso', 'de', 'PLN', '.', 'Hoje', 'vamos', 'aprender', 'sobre', 'tokenização', '.']\n",
      "Tokens por sentenças: ['Olá!', 'Bem-vindo ao curso de PLN.', 'Hoje vamos aprender sobre tokenização.']\n"
     ]
    }
   ],
   "execution_count": 2
  },
  {
   "metadata": {},
   "cell_type": "markdown",
   "source": [
    "# Remoção de Stopwords\n",
    "* Objetivo: Filtrar palavras irrelevantes para análise.\n"
   ],
   "id": "249dd5c33c34bd84"
  },
  {
   "metadata": {
    "ExecuteTime": {
     "end_time": "2025-02-27T21:30:13.115729Z",
     "start_time": "2025-02-27T21:30:13.110962Z"
    }
   },
   "cell_type": "code",
   "source": [
    "# Lista de palavras sem stopwords\n",
    "tokens_filtrados = [token.text for token in doc if not token.is_stop]\n",
    "\n",
    "print(\"Texto sem stopwords:\", tokens_filtrados)\n"
   ],
   "id": "30ff89a79994fc2",
   "outputs": [
    {
     "name": "stdout",
     "output_type": "stream",
     "text": [
      "Texto sem stopwords: ['Olá', '!', 'Bem-vindo', 'curso', 'PLN', '.', 'Hoje', 'vamos', 'aprender', 'tokenização', '.']\n"
     ]
    }
   ],
   "execution_count": 3
  },
  {
   "metadata": {},
   "cell_type": "markdown",
   "source": [
    "# Stemming\n",
    "* Objetivo: Reduzir palavras às suas raízes. \n",
    "* O spaCy não tem um stemmer embutido como o NLTK. Em vez disso, utilizamos a lematização, que é mais precisa."
   ],
   "id": "5203a311687e0be1"
  },
  {
   "metadata": {
    "ExecuteTime": {
     "end_time": "2025-02-27T21:30:15.823650Z",
     "start_time": "2025-02-27T21:30:15.692374Z"
    }
   },
   "cell_type": "code",
   "source": [
    "from nltk.stem.snowball import SnowballStemmer\n",
    "\n",
    "stemmer = SnowballStemmer(\"portuguese\")\n",
    "stems = [stemmer.stem(token.text) for token in doc]\n",
    "\n",
    "print(\"Stemming:\", stems)\n"
   ],
   "id": "c8d6899623d66b68",
   "outputs": [
    {
     "name": "stdout",
     "output_type": "stream",
     "text": [
      "Stemming: ['olá', '!', 'bem-v', 'ao', 'curs', 'de', 'pln', '.', 'hoj', 'vam', 'aprend', 'sobr', 'tokeniz', '.']\n"
     ]
    }
   ],
   "execution_count": 4
  },
  {
   "metadata": {},
   "cell_type": "markdown",
   "source": [
    "# Lematização\n",
    "* Objetivo: Reduzir palavras à sua forma base considerando o contexto."
   ],
   "id": "eef9737cba475c02"
  },
  {
   "metadata": {
    "ExecuteTime": {
     "end_time": "2025-02-27T21:30:18.263184Z",
     "start_time": "2025-02-27T21:30:18.258344Z"
    }
   },
   "cell_type": "code",
   "source": [
    "# Aplicar lematização\n",
    "lematizados = [token.lemma_ for token in doc]\n",
    "\n",
    "print(\"Lematização:\", lematizados)\n"
   ],
   "id": "d1a82f541a42b8af",
   "outputs": [
    {
     "name": "stdout",
     "output_type": "stream",
     "text": [
      "Lematização: ['Olá', '!', 'bem-vindo', 'a o', 'curso', 'de', 'PLN', '.', 'hoje', 'ir', 'aprender', 'sobre', 'tokenização', '.']\n"
     ]
    }
   ],
   "execution_count": 5
  },
  {
   "metadata": {},
   "cell_type": "markdown",
   "source": [
    "# POS-Tagging (Etiquetagem Gramatical)\n",
    "* Objetivo: Extrair nomes de pessoas, locais e organizações de um texto."
   ],
   "id": "f41f34b733e83f70"
  },
  {
   "metadata": {
    "ExecuteTime": {
     "end_time": "2025-02-27T21:30:20.553424Z",
     "start_time": "2025-02-27T21:30:20.529975Z"
    }
   },
   "cell_type": "code",
   "source": [
    "# Exemplo de frase com entidades nomeadas\n",
    "texto = \"A Amazon é uma das maiores empresas do mundo e Jeff Bezos foi seu fundador.\"\n",
    "\n",
    "# Processar texto com spaCy\n",
    "doc = nlp(texto)\n",
    "\n",
    "# Reconhecimento de Entidades Nomeadas (NER)\n",
    "entidades = [(ent.text, ent.label_) for ent in doc.ents]\n",
    "\n",
    "print(\"Entidades Nomeadas (NER):\", entidades)\n"
   ],
   "id": "ec2be670d2677b4e",
   "outputs": [
    {
     "name": "stdout",
     "output_type": "stream",
     "text": [
      "Entidades Nomeadas (NER): [('Amazon', 'ORG'), ('Jeff Bezos', 'PER')]\n"
     ]
    }
   ],
   "execution_count": 6
  },
  {
   "metadata": {},
   "cell_type": "markdown",
   "source": [
    "# Conclusão\n",
    "* spaCy é muito mais rápido e eficiente que NLTK.\n",
    "* Tokenização, lematização e NER funcionam de forma muito mais precisa.\n",
    "* Se precisar de stemming, pode integrar com NLTK.\n",
    "* Ideal para aplicações reais de PLN!"
   ],
   "id": "7f8db0fead69b886"
  }
 ],
 "metadata": {
  "kernelspec": {
   "display_name": "Python 3",
   "language": "python",
   "name": "python3"
  },
  "language_info": {
   "codemirror_mode": {
    "name": "ipython",
    "version": 2
   },
   "file_extension": ".py",
   "mimetype": "text/x-python",
   "name": "python",
   "nbconvert_exporter": "python",
   "pygments_lexer": "ipython2",
   "version": "2.7.6"
  }
 },
 "nbformat": 4,
 "nbformat_minor": 5
}
