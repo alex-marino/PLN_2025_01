{
 "cells": [
  {
   "metadata": {
    "ExecuteTime": {
     "end_time": "2025-02-27T21:33:55.657868Z",
     "start_time": "2025-02-27T21:33:48.224655Z"
    }
   },
   "cell_type": "code",
   "source": "!pip install transformers",
   "id": "773e2877a88422f4",
   "outputs": [
    {
     "name": "stdout",
     "output_type": "stream",
     "text": [
      "Collecting transformers\r\n",
      "  Downloading transformers-4.49.0-py3-none-any.whl.metadata (44 kB)\r\n",
      "Collecting filelock (from transformers)\r\n",
      "  Using cached filelock-3.17.0-py3-none-any.whl.metadata (2.9 kB)\r\n",
      "Collecting huggingface-hub<1.0,>=0.26.0 (from transformers)\r\n",
      "  Downloading huggingface_hub-0.29.1-py3-none-any.whl.metadata (13 kB)\r\n",
      "Requirement already satisfied: numpy>=1.17 in /home/alex/miniconda3/envs/pythonProject1/lib/python3.11/site-packages (from transformers) (2.2.3)\r\n",
      "Requirement already satisfied: packaging>=20.0 in /home/alex/miniconda3/envs/pythonProject1/lib/python3.11/site-packages (from transformers) (24.2)\r\n",
      "Requirement already satisfied: pyyaml>=5.1 in /home/alex/miniconda3/envs/pythonProject1/lib/python3.11/site-packages (from transformers) (6.0.2)\r\n",
      "Requirement already satisfied: regex!=2019.12.17 in /home/alex/miniconda3/envs/pythonProject1/lib/python3.11/site-packages (from transformers) (2024.11.6)\r\n",
      "Requirement already satisfied: requests in /home/alex/miniconda3/envs/pythonProject1/lib/python3.11/site-packages (from transformers) (2.32.3)\r\n",
      "Collecting tokenizers<0.22,>=0.21 (from transformers)\r\n",
      "  Using cached tokenizers-0.21.0-cp39-abi3-manylinux_2_17_x86_64.manylinux2014_x86_64.whl.metadata (6.7 kB)\r\n",
      "Collecting safetensors>=0.4.1 (from transformers)\r\n",
      "  Downloading safetensors-0.5.3-cp38-abi3-manylinux_2_17_x86_64.manylinux2014_x86_64.whl.metadata (3.8 kB)\r\n",
      "Requirement already satisfied: tqdm>=4.27 in /home/alex/miniconda3/envs/pythonProject1/lib/python3.11/site-packages (from transformers) (4.67.1)\r\n",
      "Collecting fsspec>=2023.5.0 (from huggingface-hub<1.0,>=0.26.0->transformers)\r\n",
      "  Using cached fsspec-2025.2.0-py3-none-any.whl.metadata (11 kB)\r\n",
      "Requirement already satisfied: typing-extensions>=3.7.4.3 in /home/alex/miniconda3/envs/pythonProject1/lib/python3.11/site-packages (from huggingface-hub<1.0,>=0.26.0->transformers) (4.12.2)\r\n",
      "Requirement already satisfied: charset-normalizer<4,>=2 in /home/alex/miniconda3/envs/pythonProject1/lib/python3.11/site-packages (from requests->transformers) (3.3.2)\r\n",
      "Requirement already satisfied: idna<4,>=2.5 in /home/alex/miniconda3/envs/pythonProject1/lib/python3.11/site-packages (from requests->transformers) (3.7)\r\n",
      "Requirement already satisfied: urllib3<3,>=1.21.1 in /home/alex/miniconda3/envs/pythonProject1/lib/python3.11/site-packages (from requests->transformers) (2.3.0)\r\n",
      "Requirement already satisfied: certifi>=2017.4.17 in /home/alex/miniconda3/envs/pythonProject1/lib/python3.11/site-packages (from requests->transformers) (2025.1.31)\r\n",
      "Downloading transformers-4.49.0-py3-none-any.whl (10.0 MB)\r\n",
      "\u001B[2K   \u001B[90m━━━━━━━━━━━━━━━━━━━━━━━━━━━━━━━━━━━━━━━━\u001B[0m \u001B[32m10.0/10.0 MB\u001B[0m \u001B[31m36.8 MB/s\u001B[0m eta \u001B[36m0:00:00\u001B[0m \u001B[36m0:00:01\u001B[0m\r\n",
      "\u001B[?25hDownloading huggingface_hub-0.29.1-py3-none-any.whl (468 kB)\r\n",
      "Downloading safetensors-0.5.3-cp38-abi3-manylinux_2_17_x86_64.manylinux2014_x86_64.whl (471 kB)\r\n",
      "Using cached tokenizers-0.21.0-cp39-abi3-manylinux_2_17_x86_64.manylinux2014_x86_64.whl (3.0 MB)\r\n",
      "Using cached filelock-3.17.0-py3-none-any.whl (16 kB)\r\n",
      "Using cached fsspec-2025.2.0-py3-none-any.whl (184 kB)\r\n",
      "Installing collected packages: safetensors, fsspec, filelock, huggingface-hub, tokenizers, transformers\r\n",
      "Successfully installed filelock-3.17.0 fsspec-2025.2.0 huggingface-hub-0.29.1 safetensors-0.5.3 tokenizers-0.21.0 transformers-4.49.0\r\n"
     ]
    }
   ],
   "execution_count": 1
  },
  {
   "metadata": {},
   "cell_type": "markdown",
   "source": [
    "# transformers (Hugging Face)\n",
    "* Melhor opção para modelos de Deep Learning em NLP (como BERT, GPT, T5, etc.).\n",
    "\n",
    "* Recursos:\n",
    "    * Usa Modelos de Transformadores como BERT, GPT, RoBERTa, T5.\n",
    "    * Transfer Learning para PLN.\n",
    "    * Possui modelos pré-treinados em vários idiomas.\n",
    "    * Suporte para PyTorch e TensorFlow.\n",
    "        * Recomendado para quem quer aplicar NLP com Deep Learning."
   ],
   "id": "bb3eadca83150c3c"
  },
  {
   "cell_type": "code",
   "id": "initial_id",
   "metadata": {
    "collapsed": true,
    "ExecuteTime": {
     "end_time": "2025-02-27T21:34:42.686696Z",
     "start_time": "2025-02-27T21:34:38.776623Z"
    }
   },
   "source": [
    "from transformers import BertTokenizer\n",
    "\n",
    "tokenizer = BertTokenizer.from_pretrained(\"bert-base-multilingual-cased\")\n",
    "tokens = tokenizer.tokenize(\"Olá, como você está?\")\n",
    "print(tokens)\n"
   ],
   "outputs": [
    {
     "name": "stderr",
     "output_type": "stream",
     "text": [
      "None of PyTorch, TensorFlow >= 2.0, or Flax have been found. Models won't be available and only tokenizers, configuration and file/data utilities can be used.\n"
     ]
    },
    {
     "data": {
      "text/plain": [
       "tokenizer_config.json:   0%|          | 0.00/49.0 [00:00<?, ?B/s]"
      ],
      "application/vnd.jupyter.widget-view+json": {
       "version_major": 2,
       "version_minor": 0,
       "model_id": "cc577fab617c4951abf6c3994043ff0e"
      }
     },
     "metadata": {},
     "output_type": "display_data"
    },
    {
     "data": {
      "text/plain": [
       "vocab.txt:   0%|          | 0.00/996k [00:00<?, ?B/s]"
      ],
      "application/vnd.jupyter.widget-view+json": {
       "version_major": 2,
       "version_minor": 0,
       "model_id": "55319ac8405743b18f4ca4df2a77b6a0"
      }
     },
     "metadata": {},
     "output_type": "display_data"
    },
    {
     "data": {
      "text/plain": [
       "tokenizer.json:   0%|          | 0.00/1.96M [00:00<?, ?B/s]"
      ],
      "application/vnd.jupyter.widget-view+json": {
       "version_major": 2,
       "version_minor": 0,
       "model_id": "f663924f6f3b43998107eb46cc4df145"
      }
     },
     "metadata": {},
     "output_type": "display_data"
    },
    {
     "data": {
      "text/plain": [
       "config.json:   0%|          | 0.00/625 [00:00<?, ?B/s]"
      ],
      "application/vnd.jupyter.widget-view+json": {
       "version_major": 2,
       "version_minor": 0,
       "model_id": "3619d10854234ec38a3e3099620c796f"
      }
     },
     "metadata": {},
     "output_type": "display_data"
    },
    {
     "name": "stdout",
     "output_type": "stream",
     "text": [
      "['Ol', '##á', ',', 'como', 'você', 'está', '?']\n"
     ]
    }
   ],
   "execution_count": 2
  },
  {
   "metadata": {},
   "cell_type": "markdown",
   "source": "",
   "id": "6b8cf32ef62e965d"
  },
  {
   "metadata": {
    "ExecuteTime": {
     "end_time": "2025-02-27T21:35:47.357447Z",
     "start_time": "2025-02-27T21:35:45.839534Z"
    }
   },
   "cell_type": "code",
   "source": "!pip install textblob\n",
   "id": "d119659ee6c345b2",
   "outputs": [
    {
     "name": "stdout",
     "output_type": "stream",
     "text": [
      "Collecting textblob\r\n",
      "  Downloading textblob-0.19.0-py3-none-any.whl.metadata (4.4 kB)\r\n",
      "Requirement already satisfied: nltk>=3.9 in /home/alex/miniconda3/envs/pythonProject1/lib/python3.11/site-packages (from textblob) (3.9.1)\r\n",
      "Requirement already satisfied: click in /home/alex/miniconda3/envs/pythonProject1/lib/python3.11/site-packages (from nltk>=3.9->textblob) (8.1.8)\r\n",
      "Requirement already satisfied: joblib in /home/alex/miniconda3/envs/pythonProject1/lib/python3.11/site-packages (from nltk>=3.9->textblob) (1.4.2)\r\n",
      "Requirement already satisfied: regex>=2021.8.3 in /home/alex/miniconda3/envs/pythonProject1/lib/python3.11/site-packages (from nltk>=3.9->textblob) (2024.11.6)\r\n",
      "Requirement already satisfied: tqdm in /home/alex/miniconda3/envs/pythonProject1/lib/python3.11/site-packages (from nltk>=3.9->textblob) (4.67.1)\r\n",
      "Downloading textblob-0.19.0-py3-none-any.whl (624 kB)\r\n",
      "\u001B[2K   \u001B[90m━━━━━━━━━━━━━━━━━━━━━━━━━━━━━━━━━━━━━━━━\u001B[0m \u001B[32m624.3/624.3 kB\u001B[0m \u001B[31m13.3 MB/s\u001B[0m eta \u001B[36m0:00:00\u001B[0m\r\n",
      "\u001B[?25hInstalling collected packages: textblob\r\n",
      "Successfully installed textblob-0.19.0\r\n"
     ]
    }
   ],
   "execution_count": 3
  },
  {
   "metadata": {},
   "cell_type": "markdown",
   "source": [
    "# TextBlob\n",
    "* Biblioteca simples para análise de sentimentos e manipulação de texto.\n",
    "* Recursos:\n",
    "    * Tokenização\n",
    "    * Lematização\n",
    "    * Análise de Sentimentos\n",
    "    * Correção Ortográfica\n",
    "* Ótimo para tarefas simples de NLP e análise de sentimentos.\n",
    "\n"
   ],
   "id": "17660c0e20443071"
  },
  {
   "metadata": {
    "ExecuteTime": {
     "end_time": "2025-02-27T21:35:56.769885Z",
     "start_time": "2025-02-27T21:35:56.589179Z"
    }
   },
   "cell_type": "code",
   "source": [
    "from textblob import TextBlob\n",
    "\n",
    "texto = TextBlob(\"I love Natural Language Processing!\")\n",
    "print(texto.sentiment)  # Retorna (polaridade, subjetividade)\n"
   ],
   "id": "25549a97451fc41a",
   "outputs": [
    {
     "name": "stdout",
     "output_type": "stream",
     "text": [
      "Sentiment(polarity=0.3125, subjectivity=0.5)\n"
     ]
    }
   ],
   "execution_count": 4
  },
  {
   "metadata": {
    "ExecuteTime": {
     "end_time": "2025-02-27T21:40:29.100573Z",
     "start_time": "2025-02-27T21:39:22.116745Z"
    }
   },
   "cell_type": "code",
   "source": "!pip install flair\n",
   "id": "495886351b1b4baf",
   "outputs": [
    {
     "name": "stdout",
     "output_type": "stream",
     "text": [
      "Collecting flair\r\n",
      "  Downloading flair-0.15.1-py3-none-any.whl.metadata (12 kB)\r\n",
      "Collecting boto3>=1.20.27 (from flair)\r\n",
      "  Downloading boto3-1.37.3-py3-none-any.whl.metadata (6.6 kB)\r\n",
      "Collecting conllu<5.0.0,>=4.0 (from flair)\r\n",
      "  Downloading conllu-4.5.3-py2.py3-none-any.whl.metadata (19 kB)\r\n",
      "Collecting deprecated>=1.2.13 (from flair)\r\n",
      "  Downloading Deprecated-1.2.18-py2.py3-none-any.whl.metadata (5.7 kB)\r\n",
      "Collecting ftfy>=6.1.0 (from flair)\r\n",
      "  Downloading ftfy-6.3.1-py3-none-any.whl.metadata (7.3 kB)\r\n",
      "Collecting gdown>=4.4.0 (from flair)\r\n",
      "  Downloading gdown-5.2.0-py3-none-any.whl.metadata (5.8 kB)\r\n",
      "Requirement already satisfied: huggingface-hub>=0.10.0 in /home/alex/miniconda3/envs/pythonProject1/lib/python3.11/site-packages (from flair) (0.29.1)\r\n",
      "Collecting langdetect>=1.0.9 (from flair)\r\n",
      "  Downloading langdetect-1.0.9.tar.gz (981 kB)\r\n",
      "\u001B[2K     \u001B[90m━━━━━━━━━━━━━━━━━━━━━━━━━━━━━━━━━━━━━━\u001B[0m \u001B[32m981.5/981.5 kB\u001B[0m \u001B[31m17.4 MB/s\u001B[0m eta \u001B[36m0:00:00\u001B[0m\r\n",
      "\u001B[?25h  Preparing metadata (setup.py) ... \u001B[?25ldone\r\n",
      "\u001B[?25hCollecting lxml>=4.8.0 (from flair)\r\n",
      "  Downloading lxml-5.3.1-cp311-cp311-manylinux_2_28_x86_64.whl.metadata (3.7 kB)\r\n",
      "Collecting matplotlib>=2.2.3 (from flair)\r\n",
      "  Downloading matplotlib-3.10.1-cp311-cp311-manylinux_2_17_x86_64.manylinux2014_x86_64.whl.metadata (11 kB)\r\n",
      "Collecting more-itertools>=8.13.0 (from flair)\r\n",
      "  Using cached more_itertools-10.6.0-py3-none-any.whl.metadata (37 kB)\r\n",
      "Collecting mpld3>=0.3 (from flair)\r\n",
      "  Downloading mpld3-0.5.10-py3-none-any.whl.metadata (5.1 kB)\r\n",
      "Collecting pptree>=3.1 (from flair)\r\n",
      "  Downloading pptree-3.1.tar.gz (3.0 kB)\r\n",
      "  Preparing metadata (setup.py) ... \u001B[?25ldone\r\n",
      "\u001B[?25hRequirement already satisfied: python-dateutil>=2.8.2 in /home/alex/miniconda3/envs/pythonProject1/lib/python3.11/site-packages (from flair) (2.9.0.post0)\r\n",
      "Collecting pytorch-revgrad>=0.2.0 (from flair)\r\n",
      "  Downloading pytorch_revgrad-0.2.0-py3-none-any.whl.metadata (1.7 kB)\r\n",
      "Requirement already satisfied: regex>=2022.1.18 in /home/alex/miniconda3/envs/pythonProject1/lib/python3.11/site-packages (from flair) (2024.11.6)\r\n",
      "Collecting scikit-learn>=1.0.2 (from flair)\r\n",
      "  Using cached scikit_learn-1.6.1-cp311-cp311-manylinux_2_17_x86_64.manylinux2014_x86_64.whl.metadata (18 kB)\r\n",
      "Collecting segtok>=1.5.11 (from flair)\r\n",
      "  Downloading segtok-1.5.11-py3-none-any.whl.metadata (9.0 kB)\r\n",
      "Collecting sqlitedict>=2.0.0 (from flair)\r\n",
      "  Downloading sqlitedict-2.1.0.tar.gz (21 kB)\r\n",
      "  Preparing metadata (setup.py) ... \u001B[?25ldone\r\n",
      "\u001B[?25hCollecting tabulate>=0.8.10 (from flair)\r\n",
      "  Using cached tabulate-0.9.0-py3-none-any.whl.metadata (34 kB)\r\n",
      "Collecting torch>=1.13.1 (from flair)\r\n",
      "  Using cached torch-2.6.0-cp311-cp311-manylinux1_x86_64.whl.metadata (28 kB)\r\n",
      "Requirement already satisfied: tqdm>=4.63.0 in /home/alex/miniconda3/envs/pythonProject1/lib/python3.11/site-packages (from flair) (4.67.1)\r\n",
      "Collecting transformer-smaller-training-vocab>=0.2.3 (from flair)\r\n",
      "  Downloading transformer_smaller_training_vocab-0.4.0-py3-none-any.whl.metadata (8.1 kB)\r\n",
      "Requirement already satisfied: transformers<5.0.0,>=4.25.0 in /home/alex/miniconda3/envs/pythonProject1/lib/python3.11/site-packages (from transformers[sentencepiece]<5.0.0,>=4.25.0->flair) (4.49.0)\r\n",
      "Collecting wikipedia-api>=0.5.7 (from flair)\r\n",
      "  Downloading wikipedia_api-0.8.1.tar.gz (19 kB)\r\n",
      "  Preparing metadata (setup.py) ... \u001B[?25ldone\r\n",
      "\u001B[?25hCollecting bioc<3.0.0,>=2.0.0 (from flair)\r\n",
      "  Downloading bioc-2.1-py3-none-any.whl.metadata (4.6 kB)\r\n",
      "Collecting jsonlines>=1.2.0 (from bioc<3.0.0,>=2.0.0->flair)\r\n",
      "  Downloading jsonlines-4.0.0-py3-none-any.whl.metadata (1.6 kB)\r\n",
      "Collecting intervaltree (from bioc<3.0.0,>=2.0.0->flair)\r\n",
      "  Downloading intervaltree-3.1.0.tar.gz (32 kB)\r\n",
      "  Preparing metadata (setup.py) ... \u001B[?25ldone\r\n",
      "\u001B[?25hCollecting docopt (from bioc<3.0.0,>=2.0.0->flair)\r\n",
      "  Using cached docopt-0.6.2.tar.gz (25 kB)\r\n",
      "  Preparing metadata (setup.py) ... \u001B[?25ldone\r\n",
      "\u001B[?25hCollecting botocore<1.38.0,>=1.37.3 (from boto3>=1.20.27->flair)\r\n",
      "  Downloading botocore-1.37.3-py3-none-any.whl.metadata (5.7 kB)\r\n",
      "Collecting jmespath<2.0.0,>=0.7.1 (from boto3>=1.20.27->flair)\r\n",
      "  Using cached jmespath-1.0.1-py3-none-any.whl.metadata (7.6 kB)\r\n",
      "Collecting s3transfer<0.12.0,>=0.11.0 (from boto3>=1.20.27->flair)\r\n",
      "  Downloading s3transfer-0.11.3-py3-none-any.whl.metadata (1.7 kB)\r\n",
      "Requirement already satisfied: wrapt<2,>=1.10 in /home/alex/miniconda3/envs/pythonProject1/lib/python3.11/site-packages (from deprecated>=1.2.13->flair) (1.17.2)\r\n",
      "Requirement already satisfied: wcwidth in /home/alex/miniconda3/envs/pythonProject1/lib/python3.11/site-packages (from ftfy>=6.1.0->flair) (0.2.5)\r\n",
      "Requirement already satisfied: beautifulsoup4 in /home/alex/miniconda3/envs/pythonProject1/lib/python3.11/site-packages (from gdown>=4.4.0->flair) (4.12.3)\r\n",
      "Requirement already satisfied: filelock in /home/alex/miniconda3/envs/pythonProject1/lib/python3.11/site-packages (from gdown>=4.4.0->flair) (3.17.0)\r\n",
      "Requirement already satisfied: requests[socks] in /home/alex/miniconda3/envs/pythonProject1/lib/python3.11/site-packages (from gdown>=4.4.0->flair) (2.32.3)\r\n",
      "Requirement already satisfied: fsspec>=2023.5.0 in /home/alex/miniconda3/envs/pythonProject1/lib/python3.11/site-packages (from huggingface-hub>=0.10.0->flair) (2025.2.0)\r\n",
      "Requirement already satisfied: packaging>=20.9 in /home/alex/miniconda3/envs/pythonProject1/lib/python3.11/site-packages (from huggingface-hub>=0.10.0->flair) (24.2)\r\n",
      "Requirement already satisfied: pyyaml>=5.1 in /home/alex/miniconda3/envs/pythonProject1/lib/python3.11/site-packages (from huggingface-hub>=0.10.0->flair) (6.0.2)\r\n",
      "Requirement already satisfied: typing-extensions>=3.7.4.3 in /home/alex/miniconda3/envs/pythonProject1/lib/python3.11/site-packages (from huggingface-hub>=0.10.0->flair) (4.12.2)\r\n",
      "Requirement already satisfied: six in /home/alex/miniconda3/envs/pythonProject1/lib/python3.11/site-packages (from langdetect>=1.0.9->flair) (1.16.0)\r\n",
      "Collecting contourpy>=1.0.1 (from matplotlib>=2.2.3->flair)\r\n",
      "  Using cached contourpy-1.3.1-cp311-cp311-manylinux_2_17_x86_64.manylinux2014_x86_64.whl.metadata (5.4 kB)\r\n",
      "Collecting cycler>=0.10 (from matplotlib>=2.2.3->flair)\r\n",
      "  Using cached cycler-0.12.1-py3-none-any.whl.metadata (3.8 kB)\r\n",
      "Collecting fonttools>=4.22.0 (from matplotlib>=2.2.3->flair)\r\n",
      "  Downloading fonttools-4.56.0-cp311-cp311-manylinux_2_17_x86_64.manylinux2014_x86_64.whl.metadata (101 kB)\r\n",
      "Collecting kiwisolver>=1.3.1 (from matplotlib>=2.2.3->flair)\r\n",
      "  Using cached kiwisolver-1.4.8-cp311-cp311-manylinux_2_17_x86_64.manylinux2014_x86_64.whl.metadata (6.2 kB)\r\n",
      "Requirement already satisfied: numpy>=1.23 in /home/alex/miniconda3/envs/pythonProject1/lib/python3.11/site-packages (from matplotlib>=2.2.3->flair) (1.26.4)\r\n",
      "Collecting pillow>=8 (from matplotlib>=2.2.3->flair)\r\n",
      "  Using cached pillow-11.1.0-cp311-cp311-manylinux_2_28_x86_64.whl.metadata (9.1 kB)\r\n",
      "Collecting pyparsing>=2.3.1 (from matplotlib>=2.2.3->flair)\r\n",
      "  Using cached pyparsing-3.2.1-py3-none-any.whl.metadata (5.0 kB)\r\n",
      "Requirement already satisfied: jinja2 in /home/alex/miniconda3/envs/pythonProject1/lib/python3.11/site-packages (from mpld3>=0.3->flair) (3.1.5)\r\n",
      "Requirement already satisfied: scipy>=1.6.0 in /home/alex/miniconda3/envs/pythonProject1/lib/python3.11/site-packages (from scikit-learn>=1.0.2->flair) (1.13.1)\r\n",
      "Requirement already satisfied: joblib>=1.2.0 in /home/alex/miniconda3/envs/pythonProject1/lib/python3.11/site-packages (from scikit-learn>=1.0.2->flair) (1.4.2)\r\n",
      "Collecting threadpoolctl>=3.1.0 (from scikit-learn>=1.0.2->flair)\r\n",
      "  Using cached threadpoolctl-3.5.0-py3-none-any.whl.metadata (13 kB)\r\n",
      "Collecting networkx (from torch>=1.13.1->flair)\r\n",
      "  Using cached networkx-3.4.2-py3-none-any.whl.metadata (6.3 kB)\r\n",
      "Collecting nvidia-cuda-nvrtc-cu12==12.4.127 (from torch>=1.13.1->flair)\r\n",
      "  Using cached nvidia_cuda_nvrtc_cu12-12.4.127-py3-none-manylinux2014_x86_64.whl.metadata (1.5 kB)\r\n",
      "Collecting nvidia-cuda-runtime-cu12==12.4.127 (from torch>=1.13.1->flair)\r\n",
      "  Using cached nvidia_cuda_runtime_cu12-12.4.127-py3-none-manylinux2014_x86_64.whl.metadata (1.5 kB)\r\n",
      "Collecting nvidia-cuda-cupti-cu12==12.4.127 (from torch>=1.13.1->flair)\r\n",
      "  Using cached nvidia_cuda_cupti_cu12-12.4.127-py3-none-manylinux2014_x86_64.whl.metadata (1.6 kB)\r\n",
      "Collecting nvidia-cudnn-cu12==9.1.0.70 (from torch>=1.13.1->flair)\r\n",
      "  Using cached nvidia_cudnn_cu12-9.1.0.70-py3-none-manylinux2014_x86_64.whl.metadata (1.6 kB)\r\n",
      "Collecting nvidia-cublas-cu12==12.4.5.8 (from torch>=1.13.1->flair)\r\n",
      "  Using cached nvidia_cublas_cu12-12.4.5.8-py3-none-manylinux2014_x86_64.whl.metadata (1.5 kB)\r\n",
      "Collecting nvidia-cufft-cu12==11.2.1.3 (from torch>=1.13.1->flair)\r\n",
      "  Using cached nvidia_cufft_cu12-11.2.1.3-py3-none-manylinux2014_x86_64.whl.metadata (1.5 kB)\r\n",
      "Collecting nvidia-curand-cu12==10.3.5.147 (from torch>=1.13.1->flair)\r\n",
      "  Using cached nvidia_curand_cu12-10.3.5.147-py3-none-manylinux2014_x86_64.whl.metadata (1.5 kB)\r\n",
      "Collecting nvidia-cusolver-cu12==11.6.1.9 (from torch>=1.13.1->flair)\r\n",
      "  Using cached nvidia_cusolver_cu12-11.6.1.9-py3-none-manylinux2014_x86_64.whl.metadata (1.6 kB)\r\n",
      "Collecting nvidia-cusparse-cu12==12.3.1.170 (from torch>=1.13.1->flair)\r\n",
      "  Using cached nvidia_cusparse_cu12-12.3.1.170-py3-none-manylinux2014_x86_64.whl.metadata (1.6 kB)\r\n",
      "Collecting nvidia-cusparselt-cu12==0.6.2 (from torch>=1.13.1->flair)\r\n",
      "  Using cached nvidia_cusparselt_cu12-0.6.2-py3-none-manylinux2014_x86_64.whl.metadata (6.8 kB)\r\n",
      "Collecting nvidia-nccl-cu12==2.21.5 (from torch>=1.13.1->flair)\r\n",
      "  Using cached nvidia_nccl_cu12-2.21.5-py3-none-manylinux2014_x86_64.whl.metadata (1.8 kB)\r\n",
      "Collecting nvidia-nvtx-cu12==12.4.127 (from torch>=1.13.1->flair)\r\n",
      "  Using cached nvidia_nvtx_cu12-12.4.127-py3-none-manylinux2014_x86_64.whl.metadata (1.7 kB)\r\n",
      "Collecting nvidia-nvjitlink-cu12==12.4.127 (from torch>=1.13.1->flair)\r\n",
      "  Using cached nvidia_nvjitlink_cu12-12.4.127-py3-none-manylinux2014_x86_64.whl.metadata (1.5 kB)\r\n",
      "Collecting triton==3.2.0 (from torch>=1.13.1->flair)\r\n",
      "  Using cached triton-3.2.0-cp311-cp311-manylinux_2_17_x86_64.manylinux2014_x86_64.whl.metadata (1.4 kB)\r\n",
      "Collecting sympy==1.13.1 (from torch>=1.13.1->flair)\r\n",
      "  Using cached sympy-1.13.1-py3-none-any.whl.metadata (12 kB)\r\n",
      "Collecting mpmath<1.4,>=1.1.0 (from sympy==1.13.1->torch>=1.13.1->flair)\r\n",
      "  Using cached mpmath-1.3.0-py3-none-any.whl.metadata (8.6 kB)\r\n",
      "Requirement already satisfied: tokenizers<0.22,>=0.21 in /home/alex/miniconda3/envs/pythonProject1/lib/python3.11/site-packages (from transformers<5.0.0,>=4.25.0->transformers[sentencepiece]<5.0.0,>=4.25.0->flair) (0.21.0)\r\n",
      "Requirement already satisfied: safetensors>=0.4.1 in /home/alex/miniconda3/envs/pythonProject1/lib/python3.11/site-packages (from transformers<5.0.0,>=4.25.0->transformers[sentencepiece]<5.0.0,>=4.25.0->flair) (0.5.3)\r\n",
      "Collecting sentencepiece!=0.1.92,>=0.1.91 (from transformers[sentencepiece]<5.0.0,>=4.25.0->flair)\r\n",
      "  Downloading sentencepiece-0.2.0-cp311-cp311-manylinux_2_17_x86_64.manylinux2014_x86_64.whl.metadata (7.7 kB)\r\n",
      "Collecting protobuf (from transformers[sentencepiece]<5.0.0,>=4.25.0->flair)\r\n",
      "  Using cached protobuf-5.29.3-cp38-abi3-manylinux2014_x86_64.whl.metadata (592 bytes)\r\n",
      "Requirement already satisfied: urllib3!=2.2.0,<3,>=1.25.4 in /home/alex/miniconda3/envs/pythonProject1/lib/python3.11/site-packages (from botocore<1.38.0,>=1.37.3->boto3>=1.20.27->flair) (2.3.0)\r\n",
      "Requirement already satisfied: attrs>=19.2.0 in /home/alex/miniconda3/envs/pythonProject1/lib/python3.11/site-packages (from jsonlines>=1.2.0->bioc<3.0.0,>=2.0.0->flair) (24.3.0)\r\n",
      "Collecting accelerate>=0.26.0 (from transformers[sentencepiece,torch]<5.0,>=4.1->transformer-smaller-training-vocab>=0.2.3->flair)\r\n",
      "  Downloading accelerate-1.4.0-py3-none-any.whl.metadata (19 kB)\r\n",
      "Requirement already satisfied: soupsieve>1.2 in /home/alex/miniconda3/envs/pythonProject1/lib/python3.11/site-packages (from beautifulsoup4->gdown>=4.4.0->flair) (2.5)\r\n",
      "Collecting sortedcontainers<3.0,>=2.0 (from intervaltree->bioc<3.0.0,>=2.0.0->flair)\r\n",
      "  Downloading sortedcontainers-2.4.0-py2.py3-none-any.whl.metadata (10 kB)\r\n",
      "Requirement already satisfied: MarkupSafe>=2.0 in /home/alex/miniconda3/envs/pythonProject1/lib/python3.11/site-packages (from jinja2->mpld3>=0.3->flair) (3.0.2)\r\n",
      "Requirement already satisfied: charset-normalizer<4,>=2 in /home/alex/miniconda3/envs/pythonProject1/lib/python3.11/site-packages (from requests[socks]->gdown>=4.4.0->flair) (3.3.2)\r\n",
      "Requirement already satisfied: idna<4,>=2.5 in /home/alex/miniconda3/envs/pythonProject1/lib/python3.11/site-packages (from requests[socks]->gdown>=4.4.0->flair) (3.7)\r\n",
      "Requirement already satisfied: certifi>=2017.4.17 in /home/alex/miniconda3/envs/pythonProject1/lib/python3.11/site-packages (from requests[socks]->gdown>=4.4.0->flair) (2025.1.31)\r\n",
      "Requirement already satisfied: PySocks!=1.5.7,>=1.5.6 in /home/alex/miniconda3/envs/pythonProject1/lib/python3.11/site-packages (from requests[socks]->gdown>=4.4.0->flair) (1.7.1)\r\n",
      "Requirement already satisfied: psutil in /home/alex/miniconda3/envs/pythonProject1/lib/python3.11/site-packages (from accelerate>=0.26.0->transformers[sentencepiece,torch]<5.0,>=4.1->transformer-smaller-training-vocab>=0.2.3->flair) (5.9.0)\r\n",
      "Downloading flair-0.15.1-py3-none-any.whl (1.2 MB)\r\n",
      "\u001B[2K   \u001B[90m━━━━━━━━━━━━━━━━━━━━━━━━━━━━━━━━━━━━━━━━\u001B[0m \u001B[32m1.2/1.2 MB\u001B[0m \u001B[31m30.2 MB/s\u001B[0m eta \u001B[36m0:00:00\u001B[0m\r\n",
      "\u001B[?25hDownloading bioc-2.1-py3-none-any.whl (33 kB)\r\n",
      "Downloading boto3-1.37.3-py3-none-any.whl (139 kB)\r\n",
      "Downloading conllu-4.5.3-py2.py3-none-any.whl (16 kB)\r\n",
      "Downloading Deprecated-1.2.18-py2.py3-none-any.whl (10.0 kB)\r\n",
      "Downloading ftfy-6.3.1-py3-none-any.whl (44 kB)\r\n",
      "Downloading gdown-5.2.0-py3-none-any.whl (18 kB)\r\n",
      "Downloading lxml-5.3.1-cp311-cp311-manylinux_2_28_x86_64.whl (5.0 MB)\r\n",
      "\u001B[2K   \u001B[90m━━━━━━━━━━━━━━━━━━━━━━━━━━━━━━━━━━━━━━━━\u001B[0m \u001B[32m5.0/5.0 MB\u001B[0m \u001B[31m39.2 MB/s\u001B[0m eta \u001B[36m0:00:00\u001B[0m\r\n",
      "\u001B[?25hDownloading matplotlib-3.10.1-cp311-cp311-manylinux_2_17_x86_64.manylinux2014_x86_64.whl (8.6 MB)\r\n",
      "\u001B[2K   \u001B[90m━━━━━━━━━━━━━━━━━━━━━━━━━━━━━━━━━━━━━━━━\u001B[0m \u001B[32m8.6/8.6 MB\u001B[0m \u001B[31m31.4 MB/s\u001B[0m eta \u001B[36m0:00:00\u001B[0ma \u001B[36m0:00:01\u001B[0m\r\n",
      "\u001B[?25hUsing cached more_itertools-10.6.0-py3-none-any.whl (63 kB)\r\n",
      "Downloading mpld3-0.5.10-py3-none-any.whl (202 kB)\r\n",
      "Downloading pytorch_revgrad-0.2.0-py3-none-any.whl (4.6 kB)\r\n",
      "Using cached scikit_learn-1.6.1-cp311-cp311-manylinux_2_17_x86_64.manylinux2014_x86_64.whl (13.5 MB)\r\n",
      "Downloading segtok-1.5.11-py3-none-any.whl (24 kB)\r\n",
      "Using cached tabulate-0.9.0-py3-none-any.whl (35 kB)\r\n",
      "Using cached torch-2.6.0-cp311-cp311-manylinux1_x86_64.whl (766.7 MB)\r\n",
      "Using cached nvidia_cublas_cu12-12.4.5.8-py3-none-manylinux2014_x86_64.whl (363.4 MB)\r\n",
      "Using cached nvidia_cuda_cupti_cu12-12.4.127-py3-none-manylinux2014_x86_64.whl (13.8 MB)\r\n",
      "Using cached nvidia_cuda_nvrtc_cu12-12.4.127-py3-none-manylinux2014_x86_64.whl (24.6 MB)\r\n",
      "Using cached nvidia_cuda_runtime_cu12-12.4.127-py3-none-manylinux2014_x86_64.whl (883 kB)\r\n",
      "Using cached nvidia_cudnn_cu12-9.1.0.70-py3-none-manylinux2014_x86_64.whl (664.8 MB)\r\n",
      "Using cached nvidia_cufft_cu12-11.2.1.3-py3-none-manylinux2014_x86_64.whl (211.5 MB)\r\n",
      "Using cached nvidia_curand_cu12-10.3.5.147-py3-none-manylinux2014_x86_64.whl (56.3 MB)\r\n",
      "Using cached nvidia_cusolver_cu12-11.6.1.9-py3-none-manylinux2014_x86_64.whl (127.9 MB)\r\n",
      "Using cached nvidia_cusparse_cu12-12.3.1.170-py3-none-manylinux2014_x86_64.whl (207.5 MB)\r\n",
      "Using cached nvidia_cusparselt_cu12-0.6.2-py3-none-manylinux2014_x86_64.whl (150.1 MB)\r\n",
      "Using cached nvidia_nccl_cu12-2.21.5-py3-none-manylinux2014_x86_64.whl (188.7 MB)\r\n",
      "Using cached nvidia_nvjitlink_cu12-12.4.127-py3-none-manylinux2014_x86_64.whl (21.1 MB)\r\n",
      "Using cached nvidia_nvtx_cu12-12.4.127-py3-none-manylinux2014_x86_64.whl (99 kB)\r\n",
      "Using cached sympy-1.13.1-py3-none-any.whl (6.2 MB)\r\n",
      "Using cached triton-3.2.0-cp311-cp311-manylinux_2_17_x86_64.manylinux2014_x86_64.whl (253.2 MB)\r\n",
      "Downloading transformer_smaller_training_vocab-0.4.0-py3-none-any.whl (14 kB)\r\n",
      "Downloading botocore-1.37.3-py3-none-any.whl (13.3 MB)\r\n",
      "\u001B[2K   \u001B[90m━━━━━━━━━━━━━━━━━━━━━━━━━━━━━━━━━━━━━━━━\u001B[0m \u001B[32m13.3/13.3 MB\u001B[0m \u001B[31m43.5 MB/s\u001B[0m eta \u001B[36m0:00:00\u001B[0ma \u001B[36m0:00:01\u001B[0m\r\n",
      "\u001B[?25hUsing cached contourpy-1.3.1-cp311-cp311-manylinux_2_17_x86_64.manylinux2014_x86_64.whl (326 kB)\r\n",
      "Using cached cycler-0.12.1-py3-none-any.whl (8.3 kB)\r\n",
      "Downloading fonttools-4.56.0-cp311-cp311-manylinux_2_17_x86_64.manylinux2014_x86_64.whl (4.9 MB)\r\n",
      "\u001B[2K   \u001B[90m━━━━━━━━━━━━━━━━━━━━━━━━━━━━━━━━━━━━━━━━\u001B[0m \u001B[32m4.9/4.9 MB\u001B[0m \u001B[31m37.9 MB/s\u001B[0m eta \u001B[36m0:00:00\u001B[0m\r\n",
      "\u001B[?25hUsing cached jmespath-1.0.1-py3-none-any.whl (20 kB)\r\n",
      "Downloading jsonlines-4.0.0-py3-none-any.whl (8.7 kB)\r\n",
      "Using cached kiwisolver-1.4.8-cp311-cp311-manylinux_2_17_x86_64.manylinux2014_x86_64.whl (1.4 MB)\r\n",
      "Using cached pillow-11.1.0-cp311-cp311-manylinux_2_28_x86_64.whl (4.5 MB)\r\n",
      "Using cached pyparsing-3.2.1-py3-none-any.whl (107 kB)\r\n",
      "Downloading s3transfer-0.11.3-py3-none-any.whl (84 kB)\r\n",
      "Downloading sentencepiece-0.2.0-cp311-cp311-manylinux_2_17_x86_64.manylinux2014_x86_64.whl (1.3 MB)\r\n",
      "\u001B[2K   \u001B[90m━━━━━━━━━━━━━━━━━━━━━━━━━━━━━━━━━━━━━━━━\u001B[0m \u001B[32m1.3/1.3 MB\u001B[0m \u001B[31m37.5 MB/s\u001B[0m eta \u001B[36m0:00:00\u001B[0m\r\n",
      "\u001B[?25hUsing cached threadpoolctl-3.5.0-py3-none-any.whl (18 kB)\r\n",
      "Using cached networkx-3.4.2-py3-none-any.whl (1.7 MB)\r\n",
      "Using cached protobuf-5.29.3-cp38-abi3-manylinux2014_x86_64.whl (319 kB)\r\n",
      "Downloading accelerate-1.4.0-py3-none-any.whl (342 kB)\r\n",
      "Using cached mpmath-1.3.0-py3-none-any.whl (536 kB)\r\n",
      "Downloading sortedcontainers-2.4.0-py2.py3-none-any.whl (29 kB)\r\n",
      "Building wheels for collected packages: langdetect, pptree, sqlitedict, wikipedia-api, docopt, intervaltree\r\n",
      "  Building wheel for langdetect (setup.py) ... \u001B[?25ldone\r\n",
      "\u001B[?25h  Created wheel for langdetect: filename=langdetect-1.0.9-py3-none-any.whl size=993284 sha256=6ede51d076e7b9c38d973c8dd696aaf08ed651bbdbdac857e7864c240fd7d80f\r\n",
      "  Stored in directory: /home/alex/.cache/pip/wheels/0a/f2/b2/e5ca405801e05eb7c8ed5b3b4bcf1fcabcd6272c167640072e\r\n",
      "  Building wheel for pptree (setup.py) ... \u001B[?25ldone\r\n",
      "\u001B[?25h  Created wheel for pptree: filename=pptree-3.1-py3-none-any.whl size=4638 sha256=0c32a8976b4996aca453b01fe4f0b0e2adc48ca3a0324a251fdcafe679e931bb\r\n",
      "  Stored in directory: /home/alex/.cache/pip/wheels/68/8a/eb/d683aa6d09dc68ebfde2f37566ddc8807837c4415b4fd2b04c\r\n",
      "  Building wheel for sqlitedict (setup.py) ... \u001B[?25ldone\r\n",
      "\u001B[?25h  Created wheel for sqlitedict: filename=sqlitedict-2.1.0-py3-none-any.whl size=16928 sha256=f9da2bd82eb0d3e8c584c920988b4cc72d0fd6dba42cd7fadeeb230364aba77f\r\n",
      "  Stored in directory: /home/alex/.cache/pip/wheels/73/63/89/7210274f9b7fb033b8f22671f64c0e0b55083d30c3c046a3ff\r\n",
      "  Building wheel for wikipedia-api (setup.py) ... \u001B[?25ldone\r\n",
      "\u001B[?25h  Created wheel for wikipedia-api: filename=Wikipedia_API-0.8.1-py3-none-any.whl size=15446 sha256=d3701ce97c950d5d0f34ba6d34b14e9b623ab652c0499aa67bdb7f72063a9090\r\n",
      "  Stored in directory: /home/alex/.cache/pip/wheels/0b/0f/39/e8214ec038ccd5aeb8c82b957289f2f3ab2251febeae5c2860\r\n",
      "  Building wheel for docopt (setup.py) ... \u001B[?25ldone\r\n",
      "\u001B[?25h  Created wheel for docopt: filename=docopt-0.6.2-py2.py3-none-any.whl size=13749 sha256=867c64dc16d367d18db85c09c97b94aeba66aaaaf25263ef4d561636cc6d6094\r\n",
      "  Stored in directory: /home/alex/.cache/pip/wheels/1a/b0/8c/4b75c4116c31f83c8f9f047231251e13cc74481cca4a78a9ce\r\n",
      "  Building wheel for intervaltree (setup.py) ... \u001B[?25ldone\r\n",
      "\u001B[?25h  Created wheel for intervaltree: filename=intervaltree-3.1.0-py2.py3-none-any.whl size=26160 sha256=3572ae30c1f14559ae3e39ea925cbc79d21eab13c7836226e23788c1fb6bdfaa\r\n",
      "  Stored in directory: /home/alex/.cache/pip/wheels/31/d7/d9/eec6891f78cac19a693bd40ecb8365d2f4613318c145ec9816\r\n",
      "Successfully built langdetect pptree sqlitedict wikipedia-api docopt intervaltree\r\n",
      "Installing collected packages: triton, sqlitedict, sortedcontainers, sentencepiece, pptree, nvidia-cusparselt-cu12, mpmath, docopt, threadpoolctl, tabulate, sympy, segtok, pyparsing, protobuf, pillow, nvidia-nvtx-cu12, nvidia-nvjitlink-cu12, nvidia-nccl-cu12, nvidia-curand-cu12, nvidia-cufft-cu12, nvidia-cuda-runtime-cu12, nvidia-cuda-nvrtc-cu12, nvidia-cuda-cupti-cu12, nvidia-cublas-cu12, networkx, more-itertools, lxml, langdetect, kiwisolver, jsonlines, jmespath, intervaltree, ftfy, fonttools, deprecated, cycler, contourpy, conllu, wikipedia-api, scikit-learn, nvidia-cusparse-cu12, nvidia-cudnn-cu12, matplotlib, botocore, bioc, s3transfer, nvidia-cusolver-cu12, mpld3, gdown, torch, boto3, pytorch-revgrad, accelerate, transformer-smaller-training-vocab, flair\r\n",
      "Successfully installed accelerate-1.4.0 bioc-2.1 boto3-1.37.3 botocore-1.37.3 conllu-4.5.3 contourpy-1.3.1 cycler-0.12.1 deprecated-1.2.18 docopt-0.6.2 flair-0.15.1 fonttools-4.56.0 ftfy-6.3.1 gdown-5.2.0 intervaltree-3.1.0 jmespath-1.0.1 jsonlines-4.0.0 kiwisolver-1.4.8 langdetect-1.0.9 lxml-5.3.1 matplotlib-3.10.1 more-itertools-10.6.0 mpld3-0.5.10 mpmath-1.3.0 networkx-3.4.2 nvidia-cublas-cu12-12.4.5.8 nvidia-cuda-cupti-cu12-12.4.127 nvidia-cuda-nvrtc-cu12-12.4.127 nvidia-cuda-runtime-cu12-12.4.127 nvidia-cudnn-cu12-9.1.0.70 nvidia-cufft-cu12-11.2.1.3 nvidia-curand-cu12-10.3.5.147 nvidia-cusolver-cu12-11.6.1.9 nvidia-cusparse-cu12-12.3.1.170 nvidia-cusparselt-cu12-0.6.2 nvidia-nccl-cu12-2.21.5 nvidia-nvjitlink-cu12-12.4.127 nvidia-nvtx-cu12-12.4.127 pillow-11.1.0 pptree-3.1 protobuf-5.29.3 pyparsing-3.2.1 pytorch-revgrad-0.2.0 s3transfer-0.11.3 scikit-learn-1.6.1 segtok-1.5.11 sentencepiece-0.2.0 sortedcontainers-2.4.0 sqlitedict-2.1.0 sympy-1.13.1 tabulate-0.9.0 threadpoolctl-3.5.0 torch-2.6.0 transformer-smaller-training-vocab-0.4.0 triton-3.2.0 wikipedia-api-0.8.1\r\n"
     ]
    }
   ],
   "execution_count": 8
  }
 ],
 "metadata": {
  "kernelspec": {
   "display_name": "Python 3",
   "language": "python",
   "name": "python3"
  },
  "language_info": {
   "codemirror_mode": {
    "name": "ipython",
    "version": 2
   },
   "file_extension": ".py",
   "mimetype": "text/x-python",
   "name": "python",
   "nbconvert_exporter": "python",
   "pygments_lexer": "ipython2",
   "version": "2.7.6"
  }
 },
 "nbformat": 4,
 "nbformat_minor": 5
}
